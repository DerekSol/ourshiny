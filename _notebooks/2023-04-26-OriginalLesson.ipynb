{
 "cells": [
  {
   "attachments": {},
   "cell_type": "markdown",
   "metadata": {},
   "source": [
    "# Frontend and Backend Development with Big Idea 1 Review\n",
    "- toc: true\n",
    "- branch: master\n",
    "- badges: true\n",
    "- comments: true\n",
    "- categories: [fastpages, jupyter]\n",
    "\n",
    "Today, our goal is to review front-end to backend connections and how they have been used in creating our projects this year. We will also go into detail on concepts that may be unfamiliar like pandas and python api fetch.\n",
    "\n",
    "Please make a copy of our repository. In your terminal type: git clone https://github.com/jiya-sav/ourshiny.git "
   ]
  },
  {
   "cell_type": "markdown",
   "metadata": {},
   "source": [
    "## Installing Scripts Lesson\n"
   ]
  },
  {
   "cell_type": "markdown",
   "metadata": {},
   "source": [
    "### For Windows\n",
    "\n",
    "After you've installed VSCode using WSL, install Anaconda on WSL. \n",
    "\n",
    "Anaconda is like a big tool box for your computer, it has tools and libraries that you might need for data analysis, programming, and computing. Anaconda Python packages include pandas, numpy, sqlite, jupyter, bash, and other kernels. Conda is a tool that helps you manage these tools inside Anaconda. It lets you install, update, delete, and organize packages and materials. Conda script tells Conda what tools and materials you need and how to install them in your Anaconda toolbox.\n",
    "\n",
    "![conda image](https://github.com/kayleehou/myproject/blob/master/images/condadiagram.PNG?raw=true)"
   ]
  },
  {
   "cell_type": "markdown",
   "metadata": {},
   "source": [
    "Type these commands in powershell or terminal"
   ]
  },
  {
   "cell_type": "raw",
   "metadata": {},
   "source": [
    "PS C:\\Users\\UserName> wsl  # Windows prompt to WSL command\n",
    "$ cd /tmp # used to store temporary files \n",
    "$ wget https://repo.anaconda.com/archive/Anaconda3-2023.03-Linux-x86_64.sh # downloadable file\n",
    "$ chmod +x Anaconda3-2022.05-Linux-x86_64.sh # chmod (change mode command) changes permissions for a file or directory \n",
    "# Answer yes to all the prompts\n",
    "$ ./Anaconda3-2022.05-Linux-x86_64.sh "
   ]
  },
  {
   "cell_type": "markdown",
   "metadata": {},
   "source": [
    "Start a new WSL Command or Powershell. Now the WSL prompt should be prefixed with (base) from Anaconda install. If not, go back to Anaconda install. The base prefix indicates that you are running inside the conda/anaconda environment. The command \"conda deactivate\" should bring you back. "
   ]
  },
  {
   "cell_type": "raw",
   "metadata": {},
   "source": [
    "PS C:\\Users\\ShayM> wsl  # Windows prompt\n",
    "(base) shay@MSI:/mnt/c/Users/ShayM$ cd ~ # WSL prompt\n",
    "(base) shay@MSI:~$ # WSL home, best place to install files\n",
    "\n",
    "# you can check your conda versions\n",
    "(base) id:~$ conda --version "
   ]
  },
  {
   "cell_type": "markdown",
   "metadata": {},
   "source": [
    "![command prompt view](https://github.com/kayleehou/myproject/blob/master/images/condaimage2.PNG?raw=true)"
   ]
  },
  {
   "cell_type": "markdown",
   "metadata": {},
   "source": [
    "### For MacOS\n",
    "\n",
    "> Python2 install on MacOS\n",
    "- Install [Python2](https://www.python.org/ftp/python/2.7.18/python-2.7.18-macosx10.9.pkg)\n",
    "\n",
    "> VSCode install on MacOS.  \n",
    "- Install [VSCode](https://code.visualstudio.com/docs/setup/mac)\n",
    "\n",
    "> Anaconda install on MacOS.\n",
    "- Download for MacOS: [Anaconda](https://www.anaconda.com/products/distribution)\n",
    "- Run Install: Answer yes to questions\n",
    "\n",
    "> Homebrew install on MacOS\n",
    "- Homebrew is a tool that helps you easily install and manage software on your Mac. Think of it like a virtual store for your computer where you can browse, download and install a variety of useful programs and tools.\n",
    "- Copy and Paste to Install from Terminal [Homebrew](https://brew.sh)\n",
    "    - Copy ```bash ... curl ...```  command using copy box on website\n",
    "    - Launch ```terminal``` from search bar\n",
    "    - Paste ```bash ... curl ...``` command into Terminal ... \n",
    "    - Make sure command starts, this should provide feedback/output in terminal and could take a long time, like 10-min, there could be a prompt in the middle, at about 5-minutes.  Follow any on screen instructions provided in terminal output to finish.\n",
    "- Homebrew installs a tool called \"brew\" which helps add and manage developer packages on MacOS. \n",
    "\n",
    "Start a new WSL terminal. Now the terminal prompt should be prefixed with (base) from Anaconda install. If not, go back to Anaconda install. \n",
    "\n",
    "> Having Homebrew and Anaconda allows you to easily install Key Packages needed on MacOS like the commands below are all neccessary: \n",
    "```bash\n",
    "$ brew list # list packages\n",
    "$ brew update # update package list\n",
    "$ brew upgrade # upgrade packages\n",
    "$ brew install git  # install latest git\n",
    "$ brew install python # install python3 for development\n",
    "$ python --version # version of python3 installed\n",
    "$ brew install java # openjdk install\n"
   ]
  },
  {
   "cell_type": "markdown",
   "metadata": {},
   "source": [
    "- Hacks: Screen shot that you have conda installed  "
   ]
  },
  {
   "cell_type": "markdown",
   "metadata": {},
   "source": [
    "### Proof of Conda (Hack)\n",
    "\n",
    "![image](https://user-images.githubusercontent.com/111464932/234680906-a3d80332-22c8-40e2-9c8e-4c5dd58f5674.png)"
   ]
  },
  {
   "cell_type": "markdown",
   "metadata": {},
   "source": [
    "![Conda Installed](images/CondaInstalled.png)"
   ]
  },
  {
   "attachments": {},
   "cell_type": "markdown",
   "metadata": {},
   "source": [
    "## Setting up GitHub Pages with FastPages Features\n",
    "\n",
    "All of you have created your own repository before at the beginning of the year, but some things have changed in the process."
   ]
  },
  {
   "cell_type": "markdown",
   "metadata": {},
   "source": [
    "1. Duplicate APCSP, and use it as template for your own repo\n",
    "\n",
    "![](images/gnr1.png)\n",
    "\n",
    "2. Name your repo and include all branches before clicking the green create button.\n",
    "\n",
    "![](images/gnr2.png)\n",
    "\n",
    "3. If you have an automatically generated pull request, then go ahead and follow the instructions on there. If there is no pull request, as shown below, then move on to step 4.\n",
    "\n",
    "![](images/gnr3.png)\n",
    "\n",
    "4. Navigate to [this link](https://8gwifi.org/sshfunctions.jsp). Select: RSA and 4096 and leave Passphrase blank. Click the blue button Generate-SSH-Keys. You have just created an ssh key-pair.\n",
    "\n",
    "![](images/gnr4.png)\n",
    "\n",
    "5. Navigate to this link. Replace the section of the link \"yourrepositoryname\" with your repository name. In the picture, I have inputted “ourshiny,” because it is my repository name. Replace the section of the link \"yourgithubname\" with your repository name that you just made.\n",
    "\thttps://github.com/yourgithubname/yourrepositoryname/settings/secrets/actions\n",
    "\n",
    "![](images/gnr5.png)\n",
    "\n",
    "6. Click New repository secret. Copy and paste the Private Key (generated in step 4) into the Value field. This includes the \"---BEGIN RSA PRIVATE KEY---\" and \"--END RSA PRIVATE KEY---\" portions. In the Name field, name the secret SSH_DEPLOY_KEY. Once done, click the green Add Secret button.\n",
    "\n",
    "![](images/gnr6.png)\n",
    "\n",
    "7. Navigate to this link, then replace the portions below with your github and repository names. My github name in the image below is jiya-sav, and my repository name is ourshiny.\n",
    "\thttps://github.com/yourgithubname/yourrepositoryname/settings/keys\n",
    "\n",
    "![](images/gnr7.png)\n",
    "\n",
    "8. Click the Add deploy key button. Paste your Public Key (generated in step 4) into the Key box. In the Title, name the key anything you want, for example fastpages-key. Finally, make sure you click the checkbox next to Allow write access (pictured below), and click the green Add key button to save the key.\n",
    "\n",
    "![](images/gnr8.png)\n",
    "\n",
    "![](images/gnr9.png)\n",
    "\n",
    "9. GitHub Actions will build your site, which will take 2-3 minutes to complete. This will happen anytime you push changes to the master branch of your repository. You can monitor the logs of this if you like on the Actions tab of your repo.\n",
    "Your GH-Pages Status badge on your README will eventually appear and be green, indicating your first successful build.\n",
    "You can monitor the status of your site in the GitHub Pages section of your repository settings.\n",
    "\n",
    "Now that you have made your repository secure, you can clone it into vscode and CODE, CODE, CODE!!!"
   ]
  },
  {
   "cell_type": "markdown",
   "metadata": {},
   "source": [
    "## How to Make a Pull Request \n",
    "\n",
    "1. After you've cloned a repository and made changes to it, go to pull requests in your Github repository \n",
    "![pull request 1](https://github.com/kayleehou/myproject/blob/master/images/pull_request1.PNG?raw=true)\n",
    "\n",
    "2. Once you click 'create new pull request,' you should see this with your new changes: \n",
    "![pull request 2](https://github.com/kayleehou/myproject/blob/master/images/pull_request2.PNG?raw=true)\n",
    "\n",
    "3. Change the title and send the pull request \n",
    "![pull request 3](https://github.com/kayleehou/myproject/blob/master/images/pull_request3.PNG?raw=true)\n",
    "\n",
    "- Hacks: You will be turning in all your hacks as a pull request. Title the pull request as shown in the third step but with your own name. Any other titles will not be accepted. "
   ]
  },
  {
   "cell_type": "markdown",
   "metadata": {},
   "source": [
    "## Fetching\n",
    "\n",
    "### The Basics\n",
    "- Fetching means getting data from somewhere else, like a website or database.\n",
    "\n",
    "JavaScript is a programming language that can be used to fetch data from a website or database.\n",
    "\n",
    "- When you fetch data with JavaScript, you first need to tell it where to get the data from. This is called the URL.\n",
    "- Once you know the URL, you can use JavaScript to go and get the data from that URL.\n",
    "- When the data comes back, it's usually in a format like text or JSON. This means that you might need to do some additional work to turn the data into something that your website or application can use.\n",
    "- Once you have the data, you can use JavaScript to display it on your website or application. You can put it in a table, show it on a map, or do anything else you can think of.\n",
    "\n",
    "![](images/frontback.png)\n",
    "\n",
    "### About Fetching\n",
    "#### Method\n",
    "The fetching methods are in line with the CRUD (Create, Read, Update, Delete), and list as follows:\n",
    "- \"GET\": Probably the most common method you would use, which is in line with \"read\". It essentially \"gets\" the information from the API and brings it to the frontend where you are able to display it and read it.\n",
    "- \"POST\": Lines up with \"create\" and adds a resource to the API. You will probably mostly be using this with your own API or if a website adds your input to an API.\n",
    "- \"PUT\" and \"PATCH\": Essentially the \"update\" for API. Use \"PUT\" if you want to change the whole resource, or \"PATCH\" if you want to change just one part of a resource.\n",
    "- \"DELETE\": Exactly how it sounds, deletes a resource from the API\n",
    "\n",
    "\n",
    "Popcorn Hacks:\n",
    "- What method should I use if I want to display some of the data stored in the backend?\n",
<<<<<<< HEAD:_notebooks/2023-04-26-FinalLesson.ipynb
    "> GET\n",
    "- What method would I use if something in the data is misspelled and I want to fix it real quick?\n",
    "> PATCH\n",
    "- What method should I use if I want to add a new entry to the data?\n",
    "> POST\n",
=======
    "    - GET (read)\n",
    "- What method would I use if something in the data is misspelled and I want to fix it real quick?\n",
<<<<<<< HEAD:_notebooks/2023-04-26-FinalLesson.ipynb
    "    - Put/Patch\n",
    "- What method should I use if I want to add a new entry to the data?\n",
    "    - POST (create)\n",
=======
    "    - PUT (patch)\n",
    "- What method should I use if I want to add a new entry to the data?\n",
    "    - Post (create)\n",
>>>>>>> 5c6dea3529031d02f02404df024fbd13dd1694d3:_notebooks/2023-04-26-OriginalLesson.ipynb
    "\n",
    "### Filtering Data\n",
    "- If we want to display API data, we are going to have to filter what we want to display for multiple reasons\n",
    "    - These include making sure that the user only sees information they need to see, and not anything else\n",
    "    - Also we need to present the information in a readable format instead of just seeing the raw data"
   ]
  },
  {
   "cell_type": "markdown",
   "metadata": {},
   "source": [
    "The below code segment, is from a previous project. It shows the use of a url being fetched, and the JavaScript fetch() command being implemented."
   ]
  },
  {
   "cell_type": "code",
   "execution_count": null,
   "metadata": {
    "vscode": {
     "languageId": "javascript"
    }
   },
   "outputs": [],
   "source": [
    "// prepare fetch urls\n",
    "  // const url = \"https://ssjn.nighthawkcodescrums.gq/api/song\";\n",
    "  const url = \"https://ssjncpt.duckdns.org/api/song\";\n",
    "  const sad_url = url + \"/sad/\";  // sad category\n",
    "  const happy_url = url + \"/happy/\";  // happy category\n",
    "  const rage_url = url + \"/rage/\";  // rage category\n",
    "  const indian_url = url + \"/indian/\"; // indian category\n",
    "\n",
    "  // prepare fetch GET options\n",
    "  const options = {\n",
    "    method: 'GET', // *GET, POST, PUT, DELETE, etc.\n",
    "    mode: 'cors', // cors, *cors, same-origin\n",
    "    cache: 'default', // *default, no-cache, reload, force-cache, only-if-cached\n",
    "    credentials: 'omit', // include, *same-origin, omit\n",
    "    headers: {\n",
    "      'Content-Type': 'application/json'\n",
    "      // 'Content-Type': 'application/x-www-form-urlencoded',\n",
    "    },\n",
    "  };\n",
    "  // prepare fetch PUT options, clones with JS Spread Operator (...)\n",
    "  const put_options = {...options, method: 'PUT'}; // clones and replaces method\n",
    "\n",
    "  // fetch the API\n",
    "  fetch(url, options)\n",
    "    // response is a RESTful \"promise\" on any successful fetch\n",
    "    .then(response => {\n",
    "      // check for response errors\n",
    "      if (response.status !== 200) {\n",
    "          error('GET API response failure: ' + response.status);\n",
    "          return;\n",
    "      }\n",
    "      // valid response will have JSON data\n",
    "    })"
   ]
  },
  {
   "cell_type": "markdown",
   "metadata": {},
   "source": [
    "## Third Party APIs\n",
    "\n",
    "- APIs provided by other developers for public use.\n",
    "\n",
    "- Programmers can use the content of these APIs to create new functionalities for their programs, or they can also simply take advantage of the data of the API for different uses.\n",
    "\n",
    "  - Ex: A developed can use Google Account login to allow users to log in with their google account\n",
    "\n",
    "  - Ex: Using the content of a weather API to make a weather app \n",
    "\n",
    "- The functionalities of these APIs are usually accessed via JavaScript (usually) as you’ve seen before in your past projects.\n",
    "\n",
    "- 3rd party APIs are located on third party servers. To access them from JavaScript you first need to connect to the API functionality and make it available on your page. "
   ]
  },
  {
   "cell_type": "code",
   "execution_count": null,
   "metadata": {
    "vscode": {
     "languageId": "javascript"
    }
   },
   "outputs": [],
   "source": [
    "<script src=\"https://api.mqcdn.com/sdk/mapquest-js/v1.3.2/mapquest.js\" defer></script>\n",
    "<link  rel=\"stylesheet\"  href=\"https://api.mqcdn.com/sdk/mapquest-js/v1.3.2/mapquest.css\" />"
   ]
  },
  {
   "cell_type": "markdown",
   "metadata": {},
   "source": [
    "- Here is an example of accessing the objects available in the library above."
   ]
  },
  {
   "attachments": {},
   "cell_type": "markdown",
   "metadata": {
    "vscode": {
     "languageId": "javascript"
    }
   },
   "source": [
    "<script>\n",
    "const map = L.mapquest.map('map', {\n",
    "    center: [53.480759, -2.242631],\n",
    "    layers: L.mapquest.tileLayer('map'),\n",
    "    zoom: 12\n",
    "  });\n",
    "  </script>"
   ]
  },
  {
   "cell_type": "markdown",
   "metadata": {},
   "source": [
    "- The process of accessing and using third-party APIs can vary depending on the specific API and the requirements set by the API provider.\n",
    "3rd party APIs use developer keys to allow developers access to the API functionality, which protects the owner of the API."
   ]
  },
  {
   "cell_type": "code",
   "execution_count": null,
   "metadata": {
    "vscode": {
     "languageId": "javascript"
    }
   },
   "outputs": [],
   "source": [
    "L.mapquest.key = 'YOUR-API-KEY-HERE';"
   ]
  },
  {
   "cell_type": "markdown",
   "metadata": {},
   "source": [
    "- Developers must apply to get the key of a certain API, and then include it in their code to be allowed access to the API's functionality.\n",
    "Some API keys are accessed slightly differently, but the method is similar for the most part.\n",
    "\n",
    "Put the link of a 3rd party API you have or will use below?\n",
    "- NBA player data third party csv file\n",
    "- https://rapidapi.com/theapiguy/api/free-nba/"
   ]
  },
  {
   "cell_type": "markdown",
   "metadata": {},
   "source": [
    "## Pandas\n",
    "\n",
    "While 3rd party APIs give you access to a plethora of data you may have not been able to include using a completely new self-made database, pandas can help you organize and utlize this data. \n",
    "\n",
    "Pandas is an open-source library that allows for the manipulation and analysis of numerical data, which is vital in real-life applications. \n",
    "\n",
    "We have used this in the song recommendation program we are currently developing. The use of pandas allows us to take the csv file we obtained from a third party and display it in a format we can manipulate and analyze."
   ]
  },
  {
   "cell_type": "code",
   "execution_count": null,
   "metadata": {
    "vscode": {
     "languageId": "javascript"
    }
   },
   "outputs": [],
   "source": [
    "import os\n",
    "import pandas as pd\n",
    "from flask import render_template\n",
    "\n",
    "@app.route('/songdata')\n",
    "def songdata():\n",
    "    # Path to the CSV file\n",
    "    csv_path = os.path.join(app.static_folder, 'songdata.csv')\n",
    "\n",
    "    # Read the CSV file into a pandas dataframe\n",
    "    df = pd.read_csv(csv_path)\n",
    "\n",
    "    # Render the dataframe as an HTML table using Jinja2\n",
    "    return render_template('songdata.html', table=df.to_html(index=False))"
   ]
  },
  {
   "cell_type": "markdown",
   "metadata": {},
   "source": [
    "This is how the dataframe will appear on our flask:\n",
    "\n",
    "![](images/localpand.png)\n",
    "\n"
   ]
  },
  {
   "cell_type": "markdown",
   "metadata": {},
   "source": [
    "## Python (Request) Fetch\n",
    "### Example with Weather API\n",
    "\n",
    "- What method is being used in these cells?\n",
    "> GET"
   ]
  },
  {
   "cell_type": "code",
   "execution_count": null,
   "metadata": {
    "vscode": {
     "languageId": "javascript"
    }
   },
   "outputs": [
    {
     "name": "stdout",
     "output_type": "stream",
     "text": [
      "{'location': {'city': 'San Diego', 'woeid': 2487889, 'country': 'United States', 'lat': 32.831699, 'long': -117.122002, 'timezone_id': 'America/Los_Angeles'}, 'current_observation': {'pubDate': 1682463385, 'wind': {'chill': 64, 'direction': 'WSW', 'speed': 9}, 'atmosphere': {'humidity': 65, 'visibility': 10, 'pressure': 1012.5}, 'astronomy': {'sunrise': '6:08 AM', 'sunset': '7:26 PM'}, 'condition': {'temperature': 65, 'text': 'Mostly Cloudy', 'code': 28}}, 'forecasts': [{'day': 'Tue', 'date': 1682438400, 'high': 67, 'low': 55, 'text': 'Mostly Clear', 'code': 33}, {'day': 'Wed', 'date': 1682524800, 'high': 73, 'low': 56, 'text': 'Partly Cloudy', 'code': 30}, {'day': 'Thu', 'date': 1682611200, 'high': 76, 'low': 57, 'text': 'Mostly Sunny', 'code': 34}, {'day': 'Fri', 'date': 1682697600, 'high': 76, 'low': 58, 'text': 'Mostly Sunny', 'code': 34}, {'day': 'Sat', 'date': 1682784000, 'high': 77, 'low': 59, 'text': 'Partly Cloudy', 'code': 30}, {'day': 'Sun', 'date': 1682870400, 'high': 75, 'low': 59, 'text': 'Partly Cloudy', 'code': 30}, {'day': 'Mon', 'date': 1682956800, 'high': 64, 'low': 54, 'text': 'Cloudy', 'code': 26}, {'day': 'Tue', 'date': 1683043200, 'high': 62, 'low': 52, 'text': 'Mostly Cloudy', 'code': 28}, {'day': 'Wed', 'date': 1683129600, 'high': 60, 'low': 53, 'text': 'Partly Cloudy', 'code': 30}, {'day': 'Thu', 'date': 1683216000, 'high': 62, 'low': 51, 'text': 'Partly Cloudy', 'code': 30}, {'day': 'Fri', 'date': 1683302400, 'high': 63, 'low': 53, 'text': 'Mostly Cloudy', 'code': 28}]}\n"
     ]
    }
   ],
   "source": [
    "import requests\n",
    "\n",
    "url = \"https://yahoo-weather5.p.rapidapi.com/weather\"\n",
    "\n",
    "querystring = {\"location\":\"San Diego\",\"format\":\"json\",\"u\":\"f\"}\n",
    "\n",
    "headers = {\n",
    "\t\"X-RapidAPI-Key\": \"4abcb54450msh7468dfd72294e89p18fbaajsn6d4200063b39\",\n",
    "\t\"X-RapidAPI-Host\": \"yahoo-weather5.p.rapidapi.com\"\n",
    "}\n",
    "\n",
    "response = requests.request(\"GET\", url, headers=headers, params=querystring)\n",
    "\n",
    "print(response.json())"
   ]
  },
  {
   "cell_type": "markdown",
   "metadata": {},
   "source": [
    "The fetch worked and we can see all the data, but this is presented in a way that is not very readable. It also has a lot of information we didn't see. Let's say I just want to see the projected weather forecasts."
   ]
  },
  {
   "cell_type": "code",
   "execution_count": null,
   "metadata": {
    "vscode": {
     "languageId": "javascript"
    }
   },
   "outputs": [
    {
     "name": "stdout",
     "output_type": "stream",
     "text": [
      "San Diego Weather Forecast:\n",
      "\n",
      "\tday Tue\n",
      "\tdate 1682438400\n",
      "\thigh 67\n",
      "\tlow 55\n",
      "\ttext Mostly Clear\n",
      "\tcode 33\n",
      "\n",
      "\n",
      "\tday Wed\n",
      "\tdate 1682524800\n",
      "\thigh 73\n",
      "\tlow 56\n",
      "\ttext Partly Cloudy\n",
      "\tcode 30\n",
      "\n",
      "\n",
      "\tday Thu\n",
      "\tdate 1682611200\n",
      "\thigh 76\n",
      "\tlow 57\n",
      "\ttext Mostly Sunny\n",
      "\tcode 34\n",
      "\n",
      "\n",
      "\tday Fri\n",
      "\tdate 1682697600\n",
      "\thigh 76\n",
      "\tlow 58\n",
      "\ttext Mostly Sunny\n",
      "\tcode 34\n",
      "\n",
      "\n",
      "\tday Sat\n",
      "\tdate 1682784000\n",
      "\thigh 77\n",
      "\tlow 59\n",
      "\ttext Partly Cloudy\n",
      "\tcode 30\n",
      "\n",
      "\n",
      "\tday Sun\n",
      "\tdate 1682870400\n",
      "\thigh 75\n",
      "\tlow 59\n",
      "\ttext Partly Cloudy\n",
      "\tcode 30\n",
      "\n",
      "\n",
      "\tday Mon\n",
      "\tdate 1682956800\n",
      "\thigh 64\n",
      "\tlow 54\n",
      "\ttext Cloudy\n",
      "\tcode 26\n",
      "\n",
      "\n",
      "\tday Tue\n",
      "\tdate 1683043200\n",
      "\thigh 62\n",
      "\tlow 52\n",
      "\ttext Mostly Cloudy\n",
      "\tcode 28\n",
      "\n",
      "\n",
      "\tday Wed\n",
      "\tdate 1683129600\n",
      "\thigh 60\n",
      "\tlow 53\n",
      "\ttext Partly Cloudy\n",
      "\tcode 30\n",
      "\n",
      "\n",
      "\tday Thu\n",
      "\tdate 1683216000\n",
      "\thigh 62\n",
      "\tlow 51\n",
      "\ttext Partly Cloudy\n",
      "\tcode 30\n",
      "\n",
      "\n",
      "\tday Fri\n",
      "\tdate 1683302400\n",
      "\thigh 63\n",
      "\tlow 53\n",
      "\ttext Mostly Cloudy\n",
      "\tcode 28\n",
      "\n",
      "\n"
     ]
    }
   ],
   "source": [
    "import requests\n",
    "\n",
    "url = \"https://yahoo-weather5.p.rapidapi.com/weather\"\n",
    "\n",
    "querystring = {\"location\":\"San Diego\",\"format\":\"json\",\"u\":\"f\"}\n",
    "\n",
    "headers = {\n",
    "\t\"X-RapidAPI-Key\": \"4abcb54450msh7468dfd72294e89p18fbaajsn6d4200063b39\",\n",
    "\t\"X-RapidAPI-Host\": \"yahoo-weather5.p.rapidapi.com\"\n",
    "}\n",
    "\n",
    "response = requests.request(\"GET\", url, headers=headers, params=querystring)\n",
    "\n",
    "print(\"San Diego Weather Forecast:\" + \"\\n\")\n",
    "forecast = response.json().get(\"forecasts\")\n",
    "i = 0\n",
    "while i < len(forecast):\n",
    "\tfor key, value in forecast[i].items():\n",
    "\t\tprint(\"\\t\" + key, value)\n",
    "\ti += 1\n",
    "\tprint(\"\\n\")"
   ]
  },
  {
   "cell_type": "markdown",
   "metadata": {},
   "source": [
    "As we can see, we now can see the data in a much more organized and readable format, and we only see the forecasts, which is what we wanted to see"
   ]
  },
  {
   "cell_type": "markdown",
   "metadata": {},
   "source": [
    "# Hacks and Point Division\n",
    "\n",
    "\n",
    "- Popcorn questions answered within lesson (.2)\n",
    "- Screenshot showing proof that conda is installed (.1)\n",
<<<<<<< HEAD:_notebooks/2023-04-26-FinalLesson.ipynb
    "\n",
    "## Done as pair hacks (Nathan Capule & Azeem Khan)\n",
    "\n",
=======
    "![]()\n",
>>>>>>> 5c6dea3529031d02f02404df024fbd13dd1694d3:_notebooks/2023-04-26-OriginalLesson.ipynb
    "- Create 3 quiz questions to demonstrate the main steps in creating a repository on Github (.1)\n",
    "\n",
    "\n",
    "```\n",
    "What is the first step to creating a repository on Github?\n",
    "A. Clone an existing repository\n",
    "B. Fork an existing repository\n",
    "C. Create a new repository\n",
    "D. Pull changes from a remote repository\n",
    "Answer: C. Create a new repository\n",
    "\n",
    "What's the first step in making a Pull Request?\n",
    "A. Giving the repository a name\n",
    "B. Git Cloning the repository\n",
    "C. Choosing a license for the repository\n",
    "D. Forking the repository\n",
    "Answer: D. Forking the repository\n",
    "\n",
    "What is the purpose of a README.md file in a Github repository?\n",
    "A. To store important data in the repository\n",
    "B. To provide a brief introduction to the repository and its contents\n",
    "C. To track changes made to the repository over time\n",
    "D. To hold images and other media used in the repository\n",
    "Answer: B. To provide a brief introduction to the repository and its contents\n",
    "```\n",
    "\n",
    "\n",
    "- Fetch from a third party API, and display json data. Then use the json data in any simple JavaScript function (hint: parse, this makes json data into a JavaScript object) (.4)\n",
    "- here's a link: https://azeem-khan1.github.io/FE-BE-Hacks/ + [source code](https://github.com/azeem-khan1/FE-BE-Hacks)\n",
    "  - In your code, comment on how you implemented a 3rd party API. Reflect on how using the 3rd party API helped.\n",
    "    - Using the third-party car API in my code allows me to fetch data about cars from a remote server and use that data in my web app\n",
    "- Pull request successful completion: (.1)\n",
    "\n",
    "Extra: Use fetch() and display data from an API, self-made or third party (.1)\n",
<<<<<<< HEAD:_notebooks/2023-04-26-FinalLesson.ipynb
    "> https://azeem-khan1.github.io/FE-BE-Hacks/\n",
    "\n"
=======
    "\n",
    "Due Friday April 28 @ 11:59"
>>>>>>> 5c6dea3529031d02f02404df024fbd13dd1694d3:_notebooks/2023-04-26-OriginalLesson.ipynb
   ]
  },
  {
   "cell_type": "markdown",
   "metadata": {},
   "source": [
    "<script>\n",
    "    async function sort() {\n",
    "    const url = 'https://car-data.p.rapidapi.com/cars?limit=10&page=0';\n",
    "    const options = {\n",
    "        method: 'GET',\n",
    "        headers: {\n",
    "            'content-type': 'application/octet-stream',\n",
    "            'X-RapidAPI-Key': '7dc092b8d8mshcbfaccb5c82b9eap1fe7fdjsna2cb1a33dcb0',\n",
    "            'X-RapidAPI-Host': 'car-data.p.rapidapi.com'\n",
    "        }\n",
    "    };\n",
    "    const req = await fetch(url, options)\n",
    "        .then(res => {return res.json()})\n",
    "        .then(data => {console.log(data)})\n",
    "        .catch(error => console.log('ERROR'))\n",
    "    };\n",
    "\n",
    "    sort();\n",
    "</script>"
   ]
  },
  {
   "cell_type": "code",
   "execution_count": null,
   "metadata": {},
   "outputs": [
    {
     "name": "stdout",
     "output_type": "stream",
     "text": [
      "[{'id': 9582, 'year': 2008, 'make': 'Buick', 'model': 'Enclave', 'type': 'SUV'}, {'id': 9583, 'year': 2006, 'make': 'MINI', 'model': 'Convertible', 'type': 'Convertible'}, {'id': 9584, 'year': 2019, 'make': 'Volvo', 'model': 'XC90', 'type': 'SUV'}, {'id': 9585, 'year': 1999, 'make': 'Ford', 'model': 'Taurus', 'type': 'Sedan, Wagon'}, {'id': 9586, 'year': 2020, 'make': 'Volvo', 'model': 'XC60', 'type': 'SUV'}, {'id': 9587, 'year': 2006, 'make': 'HUMMER', 'model': 'H2', 'type': 'SUV, Pickup'}, {'id': 9588, 'year': 2016, 'make': 'GMC', 'model': 'Sierra 1500 Crew Cab', 'type': 'Pickup'}, {'id': 9589, 'year': 2008, 'make': 'GMC', 'model': 'Canyon Crew Cab', 'type': 'Pickup'}, {'id': 9590, 'year': 2016, 'make': 'Subaru', 'model': 'Outback', 'type': 'SUV'}, {'id': 9591, 'year': 2010, 'make': 'Mitsubishi', 'model': 'Outlander', 'type': 'SUV'}]\n"
     ]
    }
   ],
   "source": [
    "\n",
    "# Trying in python...\n",
    "\n",
    "import requests\n",
    "\n",
    "url = \"https://car-data.p.rapidapi.com/cars\"\n",
    "\n",
    "querystring = {\"limit\":\"10\",\"page\":\"0\"}\n",
    "\n",
    "headers = {\n",
    "\t\"content-type\": \"application/octet-stream\",\n",
    "\t\"X-RapidAPI-Key\": \"7dc092b8d8mshcbfaccb5c82b9eap1fe7fdjsna2cb1a33dcb0\",\n",
    "\t\"X-RapidAPI-Host\": \"car-data.p.rapidapi.com\"\n",
    "}\n",
    "\n",
    "response = requests.get(url, headers=headers, params=querystring)\n",
    "\n",
    "print(response.json())"
   ]
  },
  {
   "attachments": {},
   "cell_type": "markdown",
   "metadata": {},
   "source": [
    "## 3 Quiz Questions for Creating a Repository\n",
    "\n",
    "1. What is the next step you would take, after creating a repository, if there is no automatically generated pull request?\n",
    "\n",
    "2. What types of SSH keys do you need to input when setting up your repository?\n",
    "\n",
    "3. What badge will appear in your README to indicate your site has been successfully built?"
   ]
  },
  {
   "attachments": {},
   "cell_type": "markdown",
   "metadata": {},
   "source": [
    "* note: I got permission in class from your group to use csv file"
   ]
  },
  {
   "cell_type": "code",
   "execution_count": null,
   "metadata": {},
   "outputs": [],
   "source": [
    "## USING A 3RD PARTY CSV FILE w/ PANDAS\n",
    "\n",
    "import pandas as pd\n",
    "\n",
    "#read csv and sort 'players' by height\n",
    "df = pd.read_csv('files/nba_player.csv').sort_values(by=['height'], ascending=False)\n",
    "\n",
    "print(\"------Height Top 10------\")\n",
    "\n",
    "print(df.head(5)[['name','position','height']].to_string(index=False))\n",
    "\n",
    "print(\"------Height Bottom 10------\")\n",
    "print(df.tail(5)[['name','position','height']].to_string(index=False))\n"
   ]
  },
  {
   "attachments": {},
   "cell_type": "markdown",
   "metadata": {},
   "source": [
    "This code shows the use of fetching the data from a third party csv file using pandas. Using pandas, I am able to have read through the nba player data, and sort through it to meet the conditions I want, in this case height. "
   ]
  },
  {
   "cell_type": "code",
   "execution_count": null,
   "metadata": {},
   "outputs": [],
   "source": [
    "# ANOTHER EXAMPLE OF FETCHING DATA THROUGH 3RD PARTY API (+ json formatting)\n",
    "import requests\n",
    "\n",
    "url = \"https://free-nba.p.rapidapi.com/players\"\n",
    "\n",
    "querystring = {\"page\":\"0\",\"per_page\":\"25\"}\n",
    "\n",
    "headers = {\n",
    "\t\"content-type\": \"application/octet-stream\",\n",
    "\t\"X-RapidAPI-Key\": \"7ebc48666emsha8cfa2f50618d2bp1656dcjsn88bf48c50b6f\",\n",
    "\t\"X-RapidAPI-Host\": \"free-nba.p.rapidapi.com\"\n",
    "}\n",
    "\n",
    "response = requests.get(url, headers=headers, params=querystring)\n",
    "\n",
    "print(\"NBA Players' Position\" + \"\\n\")\n",
    "player = response.json().get(\"data\")\n",
    "position = response.json().get(\"position\")\n",
    "i = 0\n",
    "while i < len(player):\n",
    "\tfor key, value in player[i].items():\n",
    "\t\tprint(key, value)\n",
    "\ti += 1\n",
    "\tprint(\"\\n\")"
   ]
  },
  {
   "attachments": {},
   "cell_type": "markdown",
   "metadata": {},
   "source": [
    "This code also fetches from a 3rd party source, instead using a RapidAPI link to do so. In this code, I can use the keys and the url to fetch data from the pre-made api, allowing me to iterate through, and print, the data."
   ]
  },
  {
   "attachments": {},
   "cell_type": "markdown",
   "metadata": {},
   "source": [
    "## Here is the link to my project from last trimester \n",
    "- My feature is the inputted workout\n",
    "[SITE LINK](https://alexac54767.github.io/Fitness_4_Baddies/)"
   ]
  },
  {
   "attachments": {},
   "cell_type": "markdown",
   "metadata": {},
   "source": [
    "![Data Fetch](images/FetchData.png)\n",
    "\n",
    "- Here is the code from the frontend to fetch the data from my api and display it in the table"
   ]
  }
 ],
 "metadata": {
  "language_info": {
   "name": "python"
  },
  "orig_nbformat": 4
 },
 "nbformat": 4,
 "nbformat_minor": 2
}
